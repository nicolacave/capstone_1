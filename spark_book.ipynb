{
 "cells": [
  {
   "cell_type": "code",
   "execution_count": 55,
   "id": "6bea7577",
   "metadata": {},
   "outputs": [],
   "source": [
    "import pyspark as ps    \n",
    "spark = ps.sql.SparkSession.builder \\\n",
    "            .master(\"local[4]\") \\\n",
    "            .appName(\"housing accessibility\") \\\n",
    "            .getOrCreate()\n",
    "sc = spark.sparkContext\n",
    "spark.conf.set(\"spark.sql.caseSensitive\", \"true\")\n"
   ]
  },
  {
   "cell_type": "code",
   "execution_count": 56,
   "id": "1ceae7a2-2f4c-4816-8d30-75cbbea97412",
   "metadata": {},
   "outputs": [
    {
     "name": "stdout",
     "output_type": "stream",
     "text": [
      "root\n",
      " |-- _unit_id: string (nullable = true)\n",
      " |-- _golden: string (nullable = true)\n",
      " |-- _unit_state: string (nullable = true)\n",
      " |-- _trusted_judgments: string (nullable = true)\n",
      " |-- _last_judgment_at: string (nullable = true)\n",
      " |-- house_types: string (nullable = true)\n",
      " |-- house_types:confidence: string (nullable = true)\n",
      " |-- residential_yes: string (nullable = true)\n",
      " |-- residential_yes:confidence: string (nullable = true)\n",
      " |-- sidewalk_ok: string (nullable = true)\n",
      " |-- sidewalk_ok:confidence: string (nullable = true)\n",
      " |-- aadress: string (nullable = true)\n",
      " |-- house_types_gold: string (nullable = true)\n",
      " |-- house_types_gold_reason: string (nullable = true)\n",
      " |-- lat: string (nullable = true)\n",
      " |-- long: string (nullable = true)\n",
      " |-- residential_yes_gold: string (nullable = true)\n",
      " |-- residential_yes_gold_reason: string (nullable = true)\n",
      " |-- sidewalk_ok_gold: string (nullable = true)\n",
      " |-- sidewalk_ok_gold_reason: string (nullable = true)\n",
      " |-- url: string (nullable = true)\n",
      "\n"
     ]
    }
   ],
   "source": [
    "housing = spark.read.option(\"header\", True).csv('housing-wheelchairs-DFE.csv')\n",
    "housing.createOrReplaceTempView(\"housing\")\n",
    "housing.printSchema()"
   ]
  },
  {
   "cell_type": "code",
   "execution_count": 57,
   "id": "89dc78c1-64eb-46b2-98e6-4ac7233fe725",
   "metadata": {},
   "outputs": [
    {
     "name": "stdout",
     "output_type": "stream",
     "text": [
      "+--------------------+-------------+\n",
      "|             aadress|  house_types|\n",
      "+--------------------+-------------+\n",
      "|4210 Southwest 16...|private_house|\n",
      "|1545 Southwest Na...|private_house|\n",
      "|4990 Southwest 18...|private_house|\n",
      "|2089 Southwest Na...|private_house|\n",
      "|189-211 Glynbrook...|private_house|\n",
      "|2241 Chapman Hill...|private_house|\n",
      "|3065 Briana Court...|private_house|\n",
      "|3255 Southwest Wi...|private_house|\n",
      "|1108 7th Street, ...|private_house|\n",
      "|2231 F Street, Sp...|private_house|\n",
      "|632 West D Street...|private_house|\n",
      "|3231 Michael Lane...|private_house|\n",
      "|1724 Whitman Aven...|private_house|\n",
      "|8 Rue des Essilla...|private_house|\n",
      "|65 Chemin sous le...|private_house|\n",
      "|2345 Southwest Ro...|private_house|\n",
      "|10505 Southwest C...|private_house|\n",
      "|5037 Northeast 33...|private_house|\n",
      "|2214 North Wygant...|private_house|\n",
      "|8520 North Bayard...|private_house|\n",
      "+--------------------+-------------+\n",
      "\n"
     ]
    }
   ],
   "source": [
    "query1 = ('''\n",
    "         SELECT aadress, house_types\n",
    "         FROM housing\n",
    "         WHERE sidewalk_ok = 'yes'\n",
    "         LIMIT 20;\n",
    "         ''')\n",
    "\n",
    "result1 = spark.sql(query1)\n",
    "result1.show()"
   ]
  },
  {
   "cell_type": "code",
   "execution_count": 58,
   "id": "ab377558-a0cc-4703-89aa-1ebb6631837c",
   "metadata": {},
   "outputs": [
    {
     "name": "stdout",
     "output_type": "stream",
     "text": [
      "+--------------------+-------------+-----------------------+\n",
      "|             aadress|  house_types|sidewalk_ok_gold_reason|\n",
      "+--------------------+-------------+-----------------------+\n",
      "|4210 Southwest 16...|private_house|   There is a sidewa...|\n",
      "|1545 Southwest Na...|private_house|   There is a sidewa...|\n",
      "|4990 Southwest 18...|private_house|   There is a sidewa...|\n",
      "|2089 Southwest Na...|private_house|                   null|\n",
      "|189-211 Glynbrook...|private_house|                   null|\n",
      "|2241 Chapman Hill...|private_house|   There is a sidewa...|\n",
      "|3065 Briana Court...|private_house|   There is a sidewa...|\n",
      "|3255 Southwest Wi...|private_house|   There is a sidewa...|\n",
      "|1108 7th Street, ...|private_house|   There is a sidewa...|\n",
      "|2231 F Street, Sp...|private_house|   There is a sidewa...|\n",
      "|632 West D Street...|private_house|                   null|\n",
      "|3231 Michael Lane...|private_house|                   null|\n",
      "|1724 Whitman Aven...|private_house|   There is a sidewa...|\n",
      "|8 Rue des Essilla...|private_house|                   null|\n",
      "|65 Chemin sous le...|private_house|                   null|\n",
      "|2345 Southwest Ro...|private_house|   There is a sidewa...|\n",
      "|10505 Southwest C...|private_house|   There is a sidewa...|\n",
      "|5037 Northeast 33...|private_house|   There is a sidewa...|\n",
      "|2214 North Wygant...|private_house|                   null|\n",
      "|8520 North Bayard...|private_house|   There is a sidewa...|\n",
      "+--------------------+-------------+-----------------------+\n",
      "\n"
     ]
    }
   ],
   "source": [
    "query2 = ('''\n",
    "         SELECT aadress, house_types, sidewalk_ok_gold_reason\n",
    "         FROM housing\n",
    "         WHERE sidewalk_ok = 'yes'\n",
    "         LIMIT 20;\n",
    "         ''')\n",
    "\n",
    "result2 = spark.sql(query2)\n",
    "result2.show()"
   ]
  },
  {
   "cell_type": "code",
   "execution_count": null,
   "id": "b54babe7-f269-4013-a8d9-64d48edf7724",
   "metadata": {},
   "outputs": [],
   "source": []
  },
  {
   "cell_type": "code",
   "execution_count": null,
   "id": "836fde4b-e828-4981-827b-a6e51de9614a",
   "metadata": {},
   "outputs": [],
   "source": []
  }
 ],
 "metadata": {
  "kernelspec": {
   "display_name": "Python 3",
   "language": "python",
   "name": "python3"
  },
  "language_info": {
   "codemirror_mode": {
    "name": "ipython",
    "version": 3
   },
   "file_extension": ".py",
   "mimetype": "text/x-python",
   "name": "python",
   "nbconvert_exporter": "python",
   "pygments_lexer": "ipython3",
   "version": "3.8.10"
  }
 },
 "nbformat": 4,
 "nbformat_minor": 5
}
